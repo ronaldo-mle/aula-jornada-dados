{
 "cells": [
  {
   "cell_type": "code",
   "execution_count": 0,
   "metadata": {
    "application/vnd.databricks.v1+cell": {
     "cellMetadata": {
      "byteLimit": 2048000,
      "rowLimit": 10000
     },
     "inputWidgets": {},
     "nuid": "6394083c-c9db-466e-9bbd-546c9c60caf9",
     "showTitle": false,
     "tableResultSettingsMap": {},
     "title": ""
    }
   },
   "outputs": [],
   "source": [
    "# 1. le os arquivos JSON do volume\n",
    "df_raw = spark.read.json(\"/Volumes/raw/pokemon/pokemon_raw/pokemon_list/\")\n",
    "\n",
    "# 2. Remove as linhas identicas ()\n",
    "df_no_full_duplicates = df_raw.distinct()\n",
    "\n",
    "# 3. Grava na tabela bronze Delta do Unity Catalog\n",
    "df_no_full_duplicates.write.format(\"delta\").mode(\"append\").saveAsTable(\"bronze.pokemon.tbl_pokemon_list\")\n",
    "\n"
   ]
  }
 ],
 "metadata": {
  "application/vnd.databricks.v1+notebook": {
   "computePreferences": null,
   "dashboards": [],
   "environmentMetadata": {
    "base_environment": "",
    "environment_version": "3"
   },
   "inputWidgetPreferences": null,
   "language": "python",
   "notebookMetadata": {
    "mostRecentlyExecutedCommandWithImplicitDF": {
     "commandId": 6817719408918937,
     "dataframes": [
      "_sqldf"
     ]
    },
    "pythonIndentUnit": 4
   },
   "notebookName": "bronze_pokemon_list",
   "widgets": {}
  },
  "language_info": {
   "name": "python"
  }
 },
 "nbformat": 4,
 "nbformat_minor": 0
}
